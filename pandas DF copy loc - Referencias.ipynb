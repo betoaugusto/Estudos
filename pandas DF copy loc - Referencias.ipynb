{
 "cells": [
  {
   "cell_type": "markdown",
   "metadata": {},
   "source": [
    "# Fazendo testes de atribuição\n",
    "* a intenção é ver quando é necessário utilizar o .copy() e o .loc[]\n",
    "\n",
    "## Criação de um novo DF com atribuição"
   ]
  },
  {
   "cell_type": "code",
   "execution_count": 14,
   "metadata": {},
   "outputs": [
    {
     "output_type": "execute_result",
     "data": {
      "text/plain": "      Nome  Idade\n0  Roberto     36\n1   Emilia     41\n2  Gabriel      9",
      "text/html": "<div>\n<style scoped>\n    .dataframe tbody tr th:only-of-type {\n        vertical-align: middle;\n    }\n\n    .dataframe tbody tr th {\n        vertical-align: top;\n    }\n\n    .dataframe thead th {\n        text-align: right;\n    }\n</style>\n<table border=\"1\" class=\"dataframe\">\n  <thead>\n    <tr style=\"text-align: right;\">\n      <th></th>\n      <th>Nome</th>\n      <th>Idade</th>\n    </tr>\n  </thead>\n  <tbody>\n    <tr>\n      <th>0</th>\n      <td>Roberto</td>\n      <td>36</td>\n    </tr>\n    <tr>\n      <th>1</th>\n      <td>Emilia</td>\n      <td>41</td>\n    </tr>\n    <tr>\n      <th>2</th>\n      <td>Gabriel</td>\n      <td>9</td>\n    </tr>\n  </tbody>\n</table>\n</div>"
     },
     "metadata": {},
     "execution_count": 14
    }
   ],
   "source": [
    "import pandas as pd\n",
    "dfBase = pd.DataFrame({'Nome':['Roberto', 'Emilia', 'Gabriel'], 'Idade':[36,41,9]})\n",
    "dfBase"
   ]
  },
  {
   "cell_type": "markdown",
   "metadata": {},
   "source": [
    "## Cria o DF <code>dfSemCopia</code>, apenas pela atribuição <code>dfSemCopia = dfBase</code>\n",
    "* <code>dfSemCopia</code> é criado como referênica <code>dfBase</code>\n",
    "* Qualquer alteração em <code>dfSemCopia</code> também ocorre em <code>dfBase</code>\n",
    "* Já as alterações em <code>dfComCopia</code> não influencia os outros DF"
   ]
  },
  {
   "cell_type": "code",
   "execution_count": 15,
   "metadata": {},
   "outputs": [],
   "source": [
    "dfComCopia = dfBase.copy()\n",
    "dfSemCopia = dfBase\n",
    "\n",
    "dfSemCopia.Idade = 0\n",
    "dfComCopia.Idade = 50"
   ]
  },
  {
   "cell_type": "code",
   "execution_count": 16,
   "metadata": {},
   "outputs": [
    {
     "output_type": "stream",
     "name": "stdout",
     "text": "dfBase:\n\tIdade mínima: 0;\n\tIdade média: 0.0;\n\tIdade máxima: 0\ndfSemCopia:\n\tIdade mínima: 0;\n\tIdade média: 0.0;\n\tIdade máxima: 0\ndfComCopia:\n\tIdade mínima: 50;\n\tIdade média: 50.0;\n\tIdade máxima: 50\n\n"
    }
   ],
   "source": [
    "msg = f'''dfBase:\n",
    "\\tIdade mínima: {dfBase.Idade.min()};\n",
    "\\tIdade média: {dfBase.Idade.mean()};\n",
    "\\tIdade máxima: {dfBase.Idade.max()}\n",
    "dfSemCopia:\n",
    "\\tIdade mínima: {dfSemCopia.Idade.min()};\n",
    "\\tIdade média: {dfSemCopia.Idade.mean()};\n",
    "\\tIdade máxima: {dfSemCopia.Idade.max()}\n",
    "dfComCopia:\n",
    "\\tIdade mínima: {dfComCopia.Idade.min()};\n",
    "\\tIdade média: {dfComCopia.Idade.mean()};\n",
    "\\tIdade máxima: {dfComCopia.Idade.max()}\n",
    "'''\n",
    "print(msg)"
   ]
  },
  {
   "cell_type": "markdown",
   "metadata": {},
   "source": [
    "## Criação de novo dataframe com seleção de outro DF"
   ]
  },
  {
   "cell_type": "code",
   "execution_count": 18,
   "metadata": {},
   "outputs": [
    {
     "output_type": "execute_result",
     "data": {
      "text/plain": "      Nome  Idade\n0  Roberto     36\n1   Emilia     41\n2  Gabriel      9",
      "text/html": "<div>\n<style scoped>\n    .dataframe tbody tr th:only-of-type {\n        vertical-align: middle;\n    }\n\n    .dataframe tbody tr th {\n        vertical-align: top;\n    }\n\n    .dataframe thead th {\n        text-align: right;\n    }\n</style>\n<table border=\"1\" class=\"dataframe\">\n  <thead>\n    <tr style=\"text-align: right;\">\n      <th></th>\n      <th>Nome</th>\n      <th>Idade</th>\n    </tr>\n  </thead>\n  <tbody>\n    <tr>\n      <th>0</th>\n      <td>Roberto</td>\n      <td>36</td>\n    </tr>\n    <tr>\n      <th>1</th>\n      <td>Emilia</td>\n      <td>41</td>\n    </tr>\n    <tr>\n      <th>2</th>\n      <td>Gabriel</td>\n      <td>9</td>\n    </tr>\n  </tbody>\n</table>\n</div>"
     },
     "metadata": {},
     "execution_count": 18
    }
   ],
   "source": [
    "# Recria dfBase\n",
    "dfBase = pd.DataFrame({'Nome':['Roberto', 'Emilia', 'Gabriel'], 'Idade':[36,41,9]})\n",
    "dfBase"
   ]
  },
  {
   "cell_type": "code",
   "execution_count": 23,
   "metadata": {},
   "outputs": [
    {
     "output_type": "execute_result",
     "data": {
      "text/plain": "     Nome  Idade\n1  Emilia     41",
      "text/html": "<div>\n<style scoped>\n    .dataframe tbody tr th:only-of-type {\n        vertical-align: middle;\n    }\n\n    .dataframe tbody tr th {\n        vertical-align: top;\n    }\n\n    .dataframe thead th {\n        text-align: right;\n    }\n</style>\n<table border=\"1\" class=\"dataframe\">\n  <thead>\n    <tr style=\"text-align: right;\">\n      <th></th>\n      <th>Nome</th>\n      <th>Idade</th>\n    </tr>\n  </thead>\n  <tbody>\n    <tr>\n      <th>1</th>\n      <td>Emilia</td>\n      <td>41</td>\n    </tr>\n  </tbody>\n</table>\n</div>"
     },
     "metadata": {},
     "execution_count": 23
    }
   ],
   "source": [
    "dfEmilia = dfBase[dfBase['Nome']=='Emilia']\n",
    "dfEmilia"
   ]
  },
  {
   "cell_type": "code",
   "execution_count": 24,
   "metadata": {},
   "outputs": [
    {
     "output_type": "execute_result",
     "data": {
      "text/plain": "      Nome  Idade\n2  Gabriel      9",
      "text/html": "<div>\n<style scoped>\n    .dataframe tbody tr th:only-of-type {\n        vertical-align: middle;\n    }\n\n    .dataframe tbody tr th {\n        vertical-align: top;\n    }\n\n    .dataframe thead th {\n        text-align: right;\n    }\n</style>\n<table border=\"1\" class=\"dataframe\">\n  <thead>\n    <tr style=\"text-align: right;\">\n      <th></th>\n      <th>Nome</th>\n      <th>Idade</th>\n    </tr>\n  </thead>\n  <tbody>\n    <tr>\n      <th>2</th>\n      <td>Gabriel</td>\n      <td>9</td>\n    </tr>\n  </tbody>\n</table>\n</div>"
     },
     "metadata": {},
     "execution_count": 24
    }
   ],
   "source": [
    "dfGabriel = dfBase.loc[dfBase['Nome']=='Gabriel']\n",
    "dfGabriel"
   ]
  },
  {
   "cell_type": "code",
   "execution_count": 29,
   "metadata": {},
   "outputs": [],
   "source": [
    "# Faz alteração na Idade\n",
    "dfEmilia.Idade = 0\n",
    "dfGabriel.Idade = 0"
   ]
  },
  {
   "cell_type": "code",
   "execution_count": 30,
   "metadata": {},
   "outputs": [
    {
     "output_type": "execute_result",
     "data": {
      "text/plain": "      Nome  Idade\n0  Roberto     36\n1   Emilia     41\n2  Gabriel      9",
      "text/html": "<div>\n<style scoped>\n    .dataframe tbody tr th:only-of-type {\n        vertical-align: middle;\n    }\n\n    .dataframe tbody tr th {\n        vertical-align: top;\n    }\n\n    .dataframe thead th {\n        text-align: right;\n    }\n</style>\n<table border=\"1\" class=\"dataframe\">\n  <thead>\n    <tr style=\"text-align: right;\">\n      <th></th>\n      <th>Nome</th>\n      <th>Idade</th>\n    </tr>\n  </thead>\n  <tbody>\n    <tr>\n      <th>0</th>\n      <td>Roberto</td>\n      <td>36</td>\n    </tr>\n    <tr>\n      <th>1</th>\n      <td>Emilia</td>\n      <td>41</td>\n    </tr>\n    <tr>\n      <th>2</th>\n      <td>Gabriel</td>\n      <td>9</td>\n    </tr>\n  </tbody>\n</table>\n</div>"
     },
     "metadata": {},
     "execution_count": 30
    }
   ],
   "source": [
    "dfBase"
   ]
  },
  {
   "cell_type": "code",
   "execution_count": 31,
   "metadata": {},
   "outputs": [
    {
     "output_type": "stream",
     "name": "stdout",
     "text": "\ndfEmilia.Idade : 1    0\nName: Idade, dtype: int64;\ndfGabriel.Idade: 2    0\nName: Idade, dtype: int64;\n\n"
    }
   ],
   "source": [
    "msg = f'''\n",
    "dfEmilia.Idade : {dfEmilia.Idade};\n",
    "dfGabriel.Idade: {dfGabriel.Idade};\n",
    "'''\n",
    "print(msg)"
   ]
  },
  {
   "cell_type": "markdown",
   "metadata": {},
   "source": [
    "### Ao contrário do que pensei, a atribuição:\n",
    "### > <code>dfEmilia = dfBase[dfBase['Nome']=='Emilia']</code> \n",
    "### e a atributição utilizando .loc\n",
    "### > <code>dfEmilia = dfBase.loc[dfBase['Nome']=='Emilia']</code> \n",
    "### parecem criar um cópia, não agindo como referência"
   ]
  },
  {
   "cell_type": "code",
   "execution_count": null,
   "metadata": {},
   "outputs": [],
   "source": []
  }
 ],
 "metadata": {
  "language_info": {
   "codemirror_mode": {
    "name": "ipython",
    "version": 3
   },
   "file_extension": ".py",
   "mimetype": "text/x-python",
   "name": "python",
   "nbconvert_exporter": "python",
   "pygments_lexer": "ipython3",
   "version": "3.7.6-final"
  },
  "orig_nbformat": 2,
  "kernelspec": {
   "name": "python38264bit8d75d3d513d2449c83343b625e7757f2",
   "display_name": "Python 3.8.2 64-bit"
  }
 },
 "nbformat": 4,
 "nbformat_minor": 2
}